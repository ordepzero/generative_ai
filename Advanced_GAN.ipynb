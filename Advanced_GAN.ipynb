{
  "nbformat": 4,
  "nbformat_minor": 0,
  "metadata": {
    "colab": {
      "provenance": [],
      "gpuType": "T4",
      "authorship_tag": "ABX9TyM7CI5yG1prJrWQGhFAZwQu",
      "include_colab_link": true
    },
    "kernelspec": {
      "name": "python3",
      "display_name": "Python 3"
    },
    "language_info": {
      "name": "python"
    },
    "accelerator": "GPU"
  },
  "cells": [
    {
      "cell_type": "markdown",
      "metadata": {
        "id": "view-in-github",
        "colab_type": "text"
      },
      "source": [
        "<a href=\"https://colab.research.google.com/github/ordepzero/generative_ai/blob/main/Advanced_GAN.ipynb\" target=\"_parent\"><img src=\"https://colab.research.google.com/assets/colab-badge.svg\" alt=\"Open In Colab\"/></a>"
      ]
    },
    {
      "cell_type": "code",
      "source": [
        "import torch, torchvision, os, PIL, pdb\n",
        "from torch import nn\n",
        "from torch.utils.data import Dataset\n",
        "from torch.utils.data import DataLoader\n",
        "from torchvision import transforms\n",
        "from torchvision.utils import make_grid\n",
        "from tqdm.auto import tqdm\n",
        "import numpy as np\n",
        "from PIL import Image\n",
        "import matplotlib.pyplot as plt"
      ],
      "metadata": {
        "id": "rGlynKVT1VOx"
      },
      "execution_count": 5,
      "outputs": []
    },
    {
      "cell_type": "code",
      "source": [
        "def show(tensor, num=25, wandbactive=0, name=''):\n",
        "  data = tensor.detach().cpu()\n",
        "  grid = make_grid(data[:num], nrow=5).permute(1,2,0)\n",
        "\n",
        "  # optional\n",
        "  if(wandbactive == 1):\n",
        "    wandb.log({name:wandb.Image(grid.numpy().clip(0,1))})\n",
        "\n",
        "  plt.imshow(grid.clip(0,1))\n",
        "  plt.show()"
      ],
      "metadata": {
        "id": "n56NmbpF12m8"
      },
      "execution_count": 6,
      "outputs": []
    },
    {
      "cell_type": "code",
      "source": [
        "n_epochs = 10000\n",
        "batch_size = 128\n",
        "lr = 1e-4\n",
        "z_dim = 200\n",
        "device = 'cuda' # GPU\n",
        "\n",
        "cur_step = 0\n",
        "crit_cycles = 5\n",
        "gen_losses = [] # acumulate the loss values of generator\n",
        "crit_losses = [] # acumulate the loss values of crict\n",
        "show_step = 35 # how many step we wanna show\n",
        "save_step = 35 # how many step we wanna save a checkpoint with the values of the parameters of the generator and the critc\n",
        "\n",
        "# saving the parameters we can start/stop anytime\n",
        "\n",
        "wandbact = 1 # yes, we want to track stats through weights and bias (optional)"
      ],
      "metadata": {
        "id": "xLxHxrcW3lKl"
      },
      "execution_count": 7,
      "outputs": []
    },
    {
      "cell_type": "code",
      "source": [
        "!pip install wandb -qqq\n",
        "\n",
        "import wandb\n",
        "wandb.login(key='6422d87cbfee9e421b937fa0782a7fe3a333f565') # load from site weight and biases"
      ],
      "metadata": {
        "colab": {
          "base_uri": "https://localhost:8080/"
        },
        "id": "uZM6Gb456qlB",
        "outputId": "1cc340a1-f27d-4a0a-d528-08fa554cf1c9"
      },
      "execution_count": 8,
      "outputs": [
        {
          "output_type": "stream",
          "name": "stdout",
          "text": [
            "\u001b[2K     \u001b[90m━━━━━━━━━━━━━━━━━━━━━━━━━━━━━━━━━━━━━━━━\u001b[0m \u001b[32m6.7/6.7 MB\u001b[0m \u001b[31m14.2 MB/s\u001b[0m eta \u001b[36m0:00:00\u001b[0m\n",
            "\u001b[2K     \u001b[90m━━━━━━━━━━━━━━━━━━━━━━━━━━━━━━━━━━━━━━━━\u001b[0m \u001b[32m207.3/207.3 kB\u001b[0m \u001b[31m17.8 MB/s\u001b[0m eta \u001b[36m0:00:00\u001b[0m\n",
            "\u001b[2K     \u001b[90m━━━━━━━━━━━━━━━━━━━━━━━━━━━━━━━━━━━━━━━━\u001b[0m \u001b[32m289.0/289.0 kB\u001b[0m \u001b[31m11.8 MB/s\u001b[0m eta \u001b[36m0:00:00\u001b[0m\n",
            "\u001b[2K     \u001b[90m━━━━━━━━━━━━━━━━━━━━━━━━━━━━━━━━━━━━━━━━\u001b[0m \u001b[32m62.7/62.7 kB\u001b[0m \u001b[31m7.5 MB/s\u001b[0m eta \u001b[36m0:00:00\u001b[0m\n",
            "\u001b[?25h"
          ]
        },
        {
          "output_type": "stream",
          "name": "stderr",
          "text": [
            "\u001b[34m\u001b[1mwandb\u001b[0m: W&B API key is configured. Use \u001b[1m`wandb login --relogin`\u001b[0m to force relogin\n",
            "\u001b[34m\u001b[1mwandb\u001b[0m: \u001b[33mWARNING\u001b[0m If you're specifying your api key in code, ensure this code is not shared publicly.\n",
            "\u001b[34m\u001b[1mwandb\u001b[0m: \u001b[33mWARNING\u001b[0m Consider setting the WANDB_API_KEY environment variable, or running `wandb login` from the command line.\n",
            "\u001b[34m\u001b[1mwandb\u001b[0m: Appending key for api.wandb.ai to your netrc file: /root/.netrc\n"
          ]
        },
        {
          "output_type": "execute_result",
          "data": {
            "text/plain": [
              "True"
            ]
          },
          "metadata": {},
          "execution_count": 8
        }
      ]
    },
    {
      "cell_type": "code",
      "source": [
        "%%capture\n",
        "\n",
        "experiment_name = wandb.util.generate_id()\n",
        "\n",
        "myrun = wandb.init(\n",
        "    project = 'wang',\n",
        "    group = experiment_name,\n",
        "    config = {\n",
        "        'optimizer': 'sgd',\n",
        "        'model': 'wang gp',\n",
        "        'epoch': '1000',\n",
        "        'batch_size': 128\n",
        "    }\n",
        ")\n",
        "\n",
        "config = wandb.config"
      ],
      "metadata": {
        "id": "i9nzh1EK7jsC"
      },
      "execution_count": 9,
      "outputs": []
    },
    {
      "cell_type": "code",
      "source": [
        "print(experiment_name)"
      ],
      "metadata": {
        "colab": {
          "base_uri": "https://localhost:8080/"
        },
        "id": "1xT25xW49A9b",
        "outputId": "fe977a7b-e563-49fe-cffb-bc617a25aae7"
      },
      "execution_count": 10,
      "outputs": [
        {
          "output_type": "stream",
          "name": "stdout",
          "text": [
            "tkrv5ppr\n"
          ]
        }
      ]
    },
    {
      "cell_type": "code",
      "source": [
        "# Generator Model\n",
        "\n",
        "class Generator(nn.Module):\n",
        "  def __init__(self, z_dim=64, d_dim=16):\n",
        "    super(Generator, self).__init__()\n",
        "    self.z_dim = z_dim\n",
        "\n",
        "    self.gen = nn.Sequential(\n",
        "        # ConvTranspose2d: in_channels, out_channels, kernel_size, stride=1, padding=0\n",
        "        # Calculatin new width and height: (n-1) * stride - 2 * passing + ks\n",
        "        # n = width or height\n",
        "        # ks = kernel size\n",
        "        # we begin with 1x1 image with z_dim number of channels (200)\n",
        "        nn.ConvTranspose2d(z_dim, d_dim * 32, 4, 1, 0), # 4x4 (ch: 200 -> 512)\n",
        "        nn.BatchNorm2d(d_dim * 32),\n",
        "        nn.ReLU(True),\n",
        "\n",
        "        nn.ConvTranspose2d(d_dim * 32, d_dim * 16, 4, 2, 1), # 8x8 (ch 512 -> 256)\n",
        "        nn.BatchNorm2d(d_dim * 16),\n",
        "        nn.ReLU(True),\n",
        "\n",
        "        nn.ConvTranspose2d(d_dim * 16, d_dim * 8, 4, 2, 1), # 16x16 (ch 256 -> 128)\n",
        "        nn.BatchNorm2d(d_dim * 8),\n",
        "        nn.ReLU(True),\n",
        "\n",
        "        nn.ConvTranspose2d(d_dim * 8, d_dim * 4, 4, 2, 1), # 16x16 (ch 128 -> 64)\n",
        "        nn.BatchNorm2d(d_dim * 4),\n",
        "        nn.ReLU(True),\n",
        "\n",
        "        nn.ConvTranspose2d(d_dim * 4, d_dim * 2, 4, 2, 1), # 64x64 (ch 64 -> 32)\n",
        "        nn.BatchNorm2d(d_dim * 2),\n",
        "        nn.ReLU(True),\n",
        "\n",
        "        nn.ConvTranspose2d(d_dim * 2, 3, 4, 2, 1), # 128x128 (ch 32 -> 3)\n",
        "        nn.Tanh() # produce result in the range from -1 to 1\n",
        "    )\n",
        "\n",
        "\n",
        "  def forward(self, noise):\n",
        "    x = noise.view(len(noise), self.z_dim, 1, 1) # 128 x 200 x 1 x 1\n",
        "    return self.gen(x)\n",
        "\n",
        "def gen_noise(num, z_dim, device='cuda'):\n",
        "  return torch.randn(num, z_dim, device=device) # 128 x 200"
      ],
      "metadata": {
        "id": "X1FqfI8c9fL4"
      },
      "execution_count": 11,
      "outputs": []
    },
    {
      "cell_type": "code",
      "execution_count": 12,
      "metadata": {
        "id": "WMisKr3TXfE_"
      },
      "outputs": [],
      "source": [
        "# The Critc isn't limited to be between 0 and 1, like discriminator, it can be any value\n",
        "\n",
        "class Critic(nn.Module):\n",
        "\n",
        "  def __init__(self, d_dim=16):\n",
        "    super(Critic, self).__init__()\n",
        "\n",
        "    self.crit = nn.Sequential(\n",
        "        # Conv2d: in_channels, out_channels, kernel_size, stride=1, padding=0\n",
        "        # New width and height: (n + 2 * pad - ks)//stride + 1\n",
        "        nn.Conv2d(3, d_dim, 4, 2, 1), # (n + 2 * pad - ks)// stride + 1 = (128 + 2 * 1 - 4)//2 + 1 = 64x64 (ch: 3, 16)\n",
        "        nn.InstanceNorm2d(d_dim),\n",
        "        nn.LeakyReLU(0.2),\n",
        "\n",
        "        nn.Conv2d(d_dim, d_dim * 2, 4, 2, 1), # 32x32 (ch: 16 -> 32)\n",
        "        nn.InstanceNorm2d(d_dim * 2),\n",
        "        nn.LeakyReLU(0.2),\n",
        "\n",
        "        nn.Conv2d(d_dim * 2, d_dim * 4, 4, 2, 1), # 16x16 (ch: 32 -> 64)\n",
        "        nn.InstanceNorm2d(d_dim * 4),\n",
        "        nn.LeakyReLU(0.2),\n",
        "\n",
        "        nn.Conv2d(d_dim * 4, d_dim * 8, 4, 2, 1), # 8x8 (ch: 64 -> 128)\n",
        "        nn.InstanceNorm2d(d_dim * 8),\n",
        "        nn.LeakyReLU(0.2),\n",
        "\n",
        "        nn.Conv2d(d_dim * 8, d_dim * 16, 4, 2, 1), # 4x4 (ch: 128 -> 256)\n",
        "        nn.InstanceNorm2d(d_dim * 16),\n",
        "        nn.LeakyReLU(0.2),\n",
        "\n",
        "        nn.Conv2d(d_dim * 16, 1, 4, 1, 0) #(n+2*pad-ks)//stride+1 => (4+2*0-4)//1+1 = 1x1 (ch: 256 -> 1)\n",
        "    )\n",
        "\n",
        "  def forward(self, image):\n",
        "    #image: 128 x 3 x 128 x 128\n",
        "    crit_pred = self.crit(image) # 128 x 1 x 1 x 1\n",
        "\n",
        "    return crit_pred.view(len(crit_pred),-1) # 128 x 1"
      ]
    },
    {
      "cell_type": "code",
      "source": [
        "## optional, init your weihts in different ways\n",
        "\n",
        "def init_weights(m):\n",
        "\n",
        "  if isinstance(m, nn.Conv2d) or isinstance(m, nn.ConcTranspose2d):\n",
        "    torch.nn.init.normal_(m.weight, 0.0, 0.2)\n",
        "    torch.nn.init.constante_(m.bias, 0)\n",
        "\n",
        "  if isinstance(m, nn.BatchNorm2d):\n",
        "    torch.nn.init.normal_(m.weight, 0.0, 0.2)\n",
        "    torch.nn.init.constante_(m.bias, 0)\n"
      ],
      "metadata": {
        "id": "P09XF9krzs1i"
      },
      "execution_count": 13,
      "outputs": []
    },
    {
      "cell_type": "code",
      "source": [
        "# load dataset\n",
        "\n",
        "import gdown, zipfile\n",
        "url='https://dl.dropboxusercontent.com/scl/fi/vltmt8hlgdf9mv9kn7d0b/img_align_celeba.zip?rlkey=tacwpkr8d9bjpctdftjg3b00a'\n",
        "\n",
        "path = 'data/celeba'\n",
        "download_path = f'{path}/img_align_celeba.zip'\n",
        "\n",
        "if not os.path.exists(path):\n",
        "  os.makedirs(path)\n",
        "\n",
        "gdown.download(url, download_path, quiet=False)\n",
        "\n",
        "with zipfile.ZipFile(download_path, 'r') as ziphandler:\n",
        "  ziphandler.extractall(path)"
      ],
      "metadata": {
        "colab": {
          "base_uri": "https://localhost:8080/"
        },
        "id": "dR5bFf6n1KpR",
        "outputId": "882e87ef-4d53-413a-94d7-20d6963c3a87"
      },
      "execution_count": null,
      "outputs": [
        {
          "output_type": "stream",
          "name": "stderr",
          "text": [
            "Downloading...\n",
            "From: https://dl.dropboxusercontent.com/scl/fi/vltmt8hlgdf9mv9kn7d0b/img_align_celeba.zip?rlkey=tacwpkr8d9bjpctdftjg3b00a\n",
            "To: /content/data/celeba/img_align_celeba.zip\n",
            "100%|██████████| 1.44G/1.44G [00:19<00:00, 73.6MB/s]\n"
          ]
        }
      ]
    },
    {
      "cell_type": "code",
      "source": [
        "### Dataset, Dataloader, declare gen, crit, test dataset\n",
        "\n",
        "class Dataset(Dataset):\n",
        "\n",
        "  def __init__(self, path, size=128, lim=10000):\n",
        "    '''\n",
        "    size: heigth and width of image\n",
        "    lim: quantity of images\n",
        "    '''\n",
        "    self.sizes = [size, size]\n",
        "    items, labels = [], []\n",
        "\n",
        "    for data in os.listdir(path)[:lim]:\n",
        "      # path: './data/celeba/img_align_celeba'\n",
        "      # data: '114568.jpg'\n",
        "      item = os.path.join(path, data)\n",
        "      items.append(item)\n",
        "      labels.append(data)\n",
        "\n",
        "    self.items = items\n",
        "    self.labels = labels\n",
        "\n",
        "  def __len__(self):\n",
        "    return len(self.items)\n",
        "\n",
        "  def __getitem__(self, idx):\n",
        "    data = PIL.Image.open(self.items[idx]).convert('RGB') # (178, 128)\n",
        "    data = np.asarray(torchvision.transforms.Resize(self.sizes)(data)) # 128 x 128 x 3\n",
        "    data = np.transpose(data, (2, 0, 1)).astype(np.float32, copy=False) # 3 x 128 x 128 $ from 0 to 255\n",
        "    data = torch.from_numpy(data).div(255) # from 0 to 1\n",
        "    return data, self.labels[idx]\n",
        "\n"
      ],
      "metadata": {
        "id": "qU1XwV5u5DA0"
      },
      "execution_count": null,
      "outputs": []
    },
    {
      "cell_type": "code",
      "source": [
        "## Dataset\n",
        "\n",
        "data_path = './data/celeba/img_align_celeba'\n",
        "ds = Dataset(data_path, size=128, lim=10000)\n",
        "\n",
        "dataloader = DataLoader(ds, batch_size=batch_size, shuffle=True)\n",
        "\n",
        "# Models\n",
        "gen = Generator(z_dim).to(device)\n",
        "crit = Critic().to(device)\n",
        "\n",
        "# OPtimizers\n",
        "gen_opt = torch.optim.Adam(gen.parameters(), lr=lr, betas=(0.5, 0.9))\n",
        "crit_opt = torch.optim.Adam(crit.parameters(), lr=lr, betas=(0.5, 0.9))\n",
        "\n",
        "# Initializations\n",
        "# gen = gen.apply(init_weights)\n",
        "# crit = crit.apply(init_weights)\n",
        "\n",
        "# wandb optional\n",
        "if wandbact==1:\n",
        "  wandb.watch(gen, log_freq=100)\n",
        "  wandb.watch(crit, log_freq=100)\n",
        "\n",
        "\n",
        "x, y = next(iter(dataloader))\n",
        "show(x) # show \"real\" images of the CelebA dataset that will be used later by the Critic network"
      ],
      "metadata": {
        "id": "Ugl5y8yTKNn0"
      },
      "execution_count": null,
      "outputs": []
    },
    {
      "cell_type": "code",
      "source": [
        "# Gradient Penalty calculation\n",
        "\n",
        "def get_gp(real, fake, crit, alpha, gamma=10):\n",
        "  '''\n",
        "  gradiente penalty: interpolation between real and fake images\n",
        "  gamma: regularization intesity\n",
        "  '''\n",
        "  mix_images = real * alpha + fake * (1 - alpha) # 128 x 3 x 128 x 128\n",
        "  mix_scores = crit(mix_images) # predictions of crit: 128 x 1\n",
        "\n",
        "  # compute and return the sum of gradients of the outputs with respect to the inputs\n",
        "  gradient = torch.autograd.grad(\n",
        "      inputs = mix_images,\n",
        "      outputs = mix_scores,\n",
        "      grad_outputs = torch.ones_like(mix_scores),\n",
        "      retain_graph = True,\n",
        "      create_graph = True,\n",
        "  )[0] # 128 x 3 x 128 x 128 (result of that final [0] selection)\n",
        "\n",
        "\n",
        "  gradient = gradient.view(len(gradient), -1)  # 128 x 49152\n",
        "\n",
        "  # The norm of a vector is a positive number that expresses its magnitude.\n",
        "  # It can be calculated in different ways. Thas's why you have different types of norm (L1, L2, etc)\n",
        "  gradient_norm = gradient.norm(2, dim=1)\n",
        "\n",
        "  gp = gamma * ((gradient_norm-1)**2).mean()\n",
        "\n",
        "  return gp"
      ],
      "metadata": {
        "id": "Ds4i8fujPlwa"
      },
      "execution_count": null,
      "outputs": []
    },
    {
      "cell_type": "code",
      "source": [
        "## Save and load chackpoints\n",
        "\n",
        "root_path = './data/'\n",
        "\n",
        "def save_checkpoint(name):\n",
        "  torch.save({\n",
        "      'epoch': epoch,\n",
        "      'model_state_dict': gen.state_dict(),\n",
        "      'optimizer_state_dict': gen_opt.state_dict()\n",
        "  }, f'{root_path}G-{name}.pkl')\n",
        "\n",
        "  torch.save({\n",
        "      'epoch': epoch,\n",
        "      'model_state_dict': crit.state_dict(),\n",
        "      'optimizer_state_dict': crit_opt.state_dict()\n",
        "  }, f'{root_path}C-{name}.pkl')\n",
        "\n",
        "  print('Save checkpoint')\n",
        "\n",
        "def load_checkpoint(name):\n",
        "  checkpoint = torch.load(f'{root_path}G-{name}.pkl')\n",
        "  gen.load_state_dict(checkpoint['model_state_dict'])\n",
        "  gen_opt.load_state_dict(checkpoint['optimizer_state_dict'])\n",
        "\n",
        "  checkpoint = torch.load(f'{root_path}C-{name}.pkl')\n",
        "  crit.load_state_dict(checkpoint['model_state_dict'])\n",
        "  crit_opt.load_state_dict(checkpoint['optimizer_state_dict'])\n",
        "\n",
        "  print(\"Loaded checkpoint\")"
      ],
      "metadata": {
        "id": "uWc02z1QX044"
      },
      "execution_count": null,
      "outputs": []
    },
    {
      "cell_type": "code",
      "source": [
        "import pickle\n",
        "\n",
        "def save_variables(epoch, cur_step):\n",
        "  # Salvando as variáveis em um arquivo\n",
        "  with open('variaveis.pkl', 'wb') as arquivo:\n",
        "      pickle.dump(epoch, arquivo)\n",
        "      pickle.dump(cur_step, arquivo)\n",
        "\n",
        "def load_variables():\n",
        "  if os.path.exists('variaveis.pkl'):\n",
        "    try:\n",
        "      # Recuperando as variáveis do arquivo\n",
        "      with open('variaveis.pkl', 'rb') as arquivo:\n",
        "          epoch = pickle.load(arquivo)\n",
        "          cur_step = pickle.load(arquivo)\n",
        "\n",
        "      # Verificando se as variáveis foram recuperadas corretamente\n",
        "      print('Loaded Variables')\n",
        "      print(f'Epoch: {epoch}')\n",
        "      print(f'Current Step: {cur_step}')\n",
        "\n",
        "\n",
        "    except (EOFError, pickle.UnpicklingError):\n",
        "      # Tratamento para erros de final de arquivo ou erros de desempacotamento\n",
        "      print('Erro ao carregar variáveis: arquivo corrompido.')\n",
        "      epoch, cur_step = 0, 0\n",
        "  else:\n",
        "    # Arquivo não existe\n",
        "    print('Arquivo variaveis.pkl não encontrado, utilizando valores padrão.')\n",
        "    epoch, cur_step = 0, 0\n",
        "\n",
        "  return epoch, cur_step"
      ],
      "metadata": {
        "id": "SFMbpNVyloz9"
      },
      "execution_count": null,
      "outputs": []
    },
    {
      "cell_type": "code",
      "source": [
        "epoch_start, cur_step = load_variables()\n",
        "\n",
        "if epoch_start > n_epochs:\n",
        "  epoch_start = n_epochs"
      ],
      "metadata": {
        "id": "ltNdAnFenmc5"
      },
      "execution_count": null,
      "outputs": []
    },
    {
      "cell_type": "code",
      "source": [
        "#epoch = 1\n",
        "#save_checkpoint(\"teste\")"
      ],
      "metadata": {
        "id": "Uhkh35-NZeui"
      },
      "execution_count": null,
      "outputs": []
    },
    {
      "cell_type": "code",
      "source": [
        "#epoch = 1\n",
        "load_checkpoint(\"latest\")"
      ],
      "metadata": {
        "id": "os17E0PdZxbY"
      },
      "execution_count": null,
      "outputs": []
    },
    {
      "cell_type": "code",
      "source": [
        "for epoch in range(epoch_start, n_epochs):\n",
        "  for real, _ in tqdm(dataloader):\n",
        "    cur_bs = len(real) # 128\n",
        "    real = real.to(device)\n",
        "\n",
        "    ### Critic\n",
        "    mean_crit_loss = 0\n",
        "    for _ in range(crit_cycles):\n",
        "      crit_opt.zero_grad() #\n",
        "\n",
        "      noise = gen_noise(cur_bs, z_dim)\n",
        "      fake = gen(noise)\n",
        "\n",
        "      # Critic predict the real and fake images\n",
        "      crit_fake_pred = crit(fake.detach()) # avoid the generator gradients, the crit uses your own weights\n",
        "      crit_real_pred = crit(real)\n",
        "\n",
        "      alpha = torch.rand(len(real), 1, 1, 1, device=device, requires_grad=True) # 128 x 1 x 1 x 1\n",
        "      gp = get_gp(real, fake.detach(), crit, alpha)\n",
        "\n",
        "      crit_loss = crit_fake_pred.mean() - crit_real_pred.mean() + gp\n",
        "\n",
        "      mean_crit_loss += crit_loss.item() / crit_cycles\n",
        "\n",
        "      crit_loss.backward(retain_graph=True) # calcula the gradient of the weigths related do loss\n",
        "      crit_opt.step() # adjust the weigths of crit based on gradients calculated during backpropagation (backward)\n",
        "\n",
        "    crit_losses += [mean_crit_loss]\n",
        "\n",
        "    ### Generator\n",
        "    gen_opt.zero_grad()\n",
        "    noise = gen_noise(cur_bs, z_dim)\n",
        "    fake = gen(noise)\n",
        "    crit_fake_pred = crit(fake)\n",
        "\n",
        "    gen_loss = -crit_fake_pred.mean()\n",
        "    gen_loss.backward()\n",
        "    gen_opt.step()\n",
        "\n",
        "    gen_losses += [gen_loss.item()]\n",
        "\n",
        "\n",
        "    # Stats\n",
        "    if (wandbact == 1):\n",
        "      wandb.log({'Epoch': epoch, 'Step': cur_step, 'Critic loss':mean_crit_loss, 'Gen loss': gen_loss})\n",
        "\n",
        "\n",
        "    if cur_step % save_step == 0 and cur_step > 0:\n",
        "      print('Saving checkpoint: ', cur_step, save_step)\n",
        "      save_checkpoint('latest')\n",
        "      print('Saving Variables: ', epoch, cur_step)\n",
        "      save_variables(epoch, cur_step)\n",
        "\n",
        "    if (cur_step % show_step == 0 and cur_step > 0):\n",
        "      show(fake, wandbactive=1, name='fake')\n",
        "      show(real, wandbactive=1, name='real')\n",
        "\n",
        "      gen_mean = sum(gen_losses[-show_step:]) / show_step\n",
        "      crit_mean = sum(crit_losses[-show_step:]) / show_step\n",
        "      print(f'Epoch: {epoch} Step: {cur_step} Generatir loss: {gen_mean} Critic loss: {crit_mean}')\n",
        "\n",
        "      plt.plot(\n",
        "          range(len(gen_losses)),\n",
        "          torch.Tensor(gen_losses),\n",
        "          label = 'Generator Loss'\n",
        "      )\n",
        "\n",
        "      plt.plot(\n",
        "          range(len(gen_losses)),\n",
        "          torch.Tensor(crit_losses),\n",
        "          label = 'Critic Loss'\n",
        "      )\n",
        "\n",
        "      plt.ylim(-1000,1000)\n",
        "      plt.legend()\n",
        "      plt.show()\n",
        "\n",
        "    cur_step += 1"
      ],
      "metadata": {
        "id": "E5-d-e29pef2"
      },
      "execution_count": null,
      "outputs": []
    },
    {
      "cell_type": "code",
      "source": [
        "\n"
      ],
      "metadata": {
        "id": "4EAO8lJQrU_r"
      },
      "execution_count": null,
      "outputs": []
    },
    {
      "cell_type": "code",
      "source": [
        "import pickle\n",
        "\n"
      ],
      "metadata": {
        "id": "3XkTzH8AkpW3"
      },
      "execution_count": null,
      "outputs": []
    }
  ]
}